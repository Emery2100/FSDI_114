{
 "cells": [
  {
   "cell_type": "markdown",
   "id": "2d773ef3",
   "metadata": {},
   "source": [
    "# Class 2 - more problems, Big 0 notation and introduction to DSA"
   ]
  },
  {
   "cell_type": "markdown",
   "id": "9137ffae",
   "metadata": {},
   "source": [
    "# Problem 1 \n",
    "\n",
    "### Anagram Check \n",
    "\n",
    "Creat a function that takes two strings as parameters and returns True if they are anagrams of each other, False otherwise\n",
    "```\n",
    "Examples:\n",
    "1. Heart and earth\n",
    "2. scar and cars\n",
    "3. star and rats\n",
    "etc etc\n",
    "```\n",
    "\n",
    "### Criteria\n",
    "Two strongs are anagrams of each other if and only if all the criteria below are met:\n",
    ">1. They must use all the same characters\n",
    ">2. They must be of exactly the same length (in characters)"
   ]
  },
  {
   "cell_type": "code",
   "execution_count": 22,
   "id": "18fc03cd",
   "metadata": {},
   "outputs": [
    {
     "name": "stdout",
     "output_type": "stream",
     "text": [
      "True\n",
      "True\n",
      "False\n",
      "True\n"
     ]
    }
   ],
   "source": [
    "def are_anagrams(x, y):\n",
    "\n",
    "    x = x.replace(\" \",\"\").lower()\n",
    "    y = y.replace(\" \",\"\").lower()\n",
    "\n",
    "    if len(x) != len(y):\n",
    "        return False\n",
    "\n",
    "    if sorted(x) == sorted(y):\n",
    "        return True\n",
    "    else:\n",
    "        return False\n",
    "(print(are_anagrams(\"heart\", \"earth\")))\n",
    "(print(are_anagrams(\"listen\", \"silent\")))\n",
    "(print(are_anagrams(\"box\", \"boxes\")))\n",
    "(print(are_anagrams(\"Tom Marvolo Riddle\", \"I am Lord Voldemort\")))"
   ]
  }
 ],
 "metadata": {
  "kernelspec": {
   "display_name": "Python 3",
   "language": "python",
   "name": "python3"
  },
  "language_info": {
   "codemirror_mode": {
    "name": "ipython",
    "version": 3
   },
   "file_extension": ".py",
   "mimetype": "text/x-python",
   "name": "python",
   "nbconvert_exporter": "python",
   "pygments_lexer": "ipython3",
   "version": "3.13.5"
  }
 },
 "nbformat": 4,
 "nbformat_minor": 5
}
