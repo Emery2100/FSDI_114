{
 "cells": [
  {
   "cell_type": "markdown",
   "id": "56d3efcf",
   "metadata": {},
   "source": [
    "# Class 3 - OOP Basics and DSA(Nodes and Linked List)"
   ]
  },
  {
   "cell_type": "markdown",
   "id": "aad270e1",
   "metadata": {},
   "source": [
    "OOP - Object Oriented Programming\n",
    "Python is an Object-oriented language, allowing you to structure your code using classes and objects for better origanization and reusibility.\n",
    "\n",
    "### Advantages:\n",
    "- Provides a clear structure to programs\n",
    "- Makes code easier to maintain, Reuse and debug\n",
    "- Helps keep your code DRY (Do not Repeat Yourself)\n",
    "- Allows to build reusable applications with less code"
   ]
  },
  {
   "cell_type": "markdown",
   "id": "131e15b2",
   "metadata": {},
   "source": [
    "### Classes and Objects\n",
    "\n",
    "A class defines what an object should look like and an object is created based on that class.\n",
    "For example: \n",
    "Class -> Fruit\n",
    "Objects -> Apple, Banana, Mango\n",
    "\n",
    "Class -> Car\n",
    "Objects -> Audi, Tesla, Toyota \n",
    "\n",
    "### The four pillats of OOp\n",
    "- Encapsulation\n",
    "- Abstraction\n",
    "- Polymorphism"
   ]
  },
  {
   "cell_type": "code",
   "execution_count": null,
   "id": "166634e9",
   "metadata": {},
   "outputs": [
    {
     "name": "stdout",
     "output_type": "stream",
     "text": [
      "5\n",
      "5\n"
     ]
    }
   ],
   "source": [
    "# Syntax\n",
    "# REserved keyword 'class' + name of the class\n",
    "# Note: the name of the class should follow the Pascal Case notations\n",
    "\n",
    "# Constructot - is always executed when the class is being initiated\n",
    "class MyClass:\n",
    "    x= 5\n",
    "\n",
    "p1 = MyClass()\n",
    "p2 = MyClass()\n",
    "p3 = MyClass()\n",
    "print(p1.x)\n",
    "print(p2.x)\n",
    "print(p3.x)"
   ]
  },
  {
   "cell_type": "code",
   "execution_count": 8,
   "id": "a5467002",
   "metadata": {},
   "outputs": [
    {
     "name": "stdout",
     "output_type": "stream",
     "text": [
      "David(34)\n",
      "Luis(24)\n",
      "Hello my name is David\n",
      "David(28)\n"
     ]
    }
   ],
   "source": [
    "class Person:\n",
    "    def __init__(self, name, age):\n",
    "        self.name = name\n",
    "        self.age = age\n",
    "\n",
    "    def my_func(self):\n",
    "        print(\"Hello my name is \" + self.name)\n",
    "    \n",
    "    # To String - Returns the values of the object instead of the memory location\n",
    "    def __str__(self):\n",
    "        return f\"{self.name}({self.age})\"\n",
    "\n",
    "p1 = Person(\"David\", 34)\n",
    "p2 = Person(\"Luis\", 24)\n",
    "\n",
    "print(p1)\n",
    "print(p2)\n",
    "\n",
    "p1.my_func()\n",
    "p1.age = 28\n",
    "print(p1)"
   ]
  },
  {
   "cell_type": "markdown",
   "id": "250e1c13",
   "metadata": {},
   "source": [
    "# Data Structures and Algorithms (DSA)\n",
    "\n",
    "DS is about how data can be stored in different structures (accessing, searching, inserting and deleting)\n",
    "\n",
    "Algorithms is about how to solve different problems, often by searching through and manipulating data and structures\n",
    "\n",
    "## Nodes and SLL (Single Linked-Lists)\n",
    "\n",
    "Differences between arrays and linked lists:\n",
    "1. We don't need to preallocate space\n",
    "2. Insertion it's easy"
   ]
  },
  {
   "cell_type": "code",
   "execution_count": 11,
   "id": "1f375ea4",
   "metadata": {},
   "outputs": [
    {
     "name": "stdout",
     "output_type": "stream",
     "text": [
      "[298, 305, 320, 301, 292]\n",
      "[298, 284, 305, 320, 301, 292]\n"
     ]
    }
   ],
   "source": [
    "# Arrays\n",
    "\n",
    "stock_prices = [298,305,320,301,292]\n",
    "print(stock_prices)\n",
    "\"\"\"\n",
    "[298] -> 0x00500 -> 0\n",
    "[305] -> 0x00504 -> 1\n",
    "[320] -> 0x00508 -> 2\n",
    "[301] -> 0x0050A -> 3\n",
    "[292] -> 0x0050F -> 4\n",
    "\"\"\"\n",
    "stock_prices.insert(1,284)\n",
    "\n",
    "\n",
    "# Insertion = 0(n)\n",
    "# [298] -> 0x00500 \n",
    "# [284] -> ?\n",
    "# [305] -> 0x00504\n",
    "# [320] -> 0x00508\n",
    "# [301] -> 0x0050A\n",
    "# [292] -> 0x0050F\n",
    "\n",
    "print(stock_prices)\n"
   ]
  },
  {
   "cell_type": "code",
   "execution_count": null,
   "id": "c259e903",
   "metadata": {},
   "outputs": [],
   "source": [
    "# Single Linked-Lists\n",
    "\n",
    "# Node -> [data | next]\n",
    "\"\"\"\n",
    "0x00500            0x00a1            0x00c5           0x00d7           0x00c0      \n",
    "[298 | 0x00A1] -> [305 | 0x00C5] -> [320 | 0x00D7] -> [301 | 0x00C0] -> [292 | null]\n",
    "\n",
    "Inserting element 284 at position 1\n",
    "\n",
    "0x00500            0xc702       0x00a1            0x00c5           0x00d7           0x00c0      \n",
    "[298 | 0x00A1] ->[284 | 0x00A1 ] [305 | 0x00C5] -> [320 | 0x00D7] -> [301 | 0x00C0] -> [292 | null]\n",
    "    0                   1                  2                 3                 4\n",
    "\n",
    "Insert Element at the beginning = O(1)\n",
    "Delete Element at the end = O(1)\n",
    "Insert/Delete Element at the end = O(n)\n",
    "Linked List Traversal = O(n)\n",
    "Accessing Element by Value = O(n)\n",
    "\"\"\"\n",
    "\n",
    "class Node:\n",
    "    def __init__(self,data,next):\n",
    "        self.data = data\n",
    "        self.next = next\n",
    "\n",
    "class LinkedList:\n",
    "    def __init__(self):\n",
    "        self.head = None\n",
    "\n",
    "    def insert_at_beginning(self,data):\n",
    "        node = Node(data,self.head)\n",
    "        self.head = node\n",
    "\n",
    "\n",
    "linked_list = LinkedList()\n",
    "linked_list.insert_at_beginning(298)\n",
    "print(linked_list)"
   ]
  }
 ],
 "metadata": {
  "kernelspec": {
   "display_name": "Python 3",
   "language": "python",
   "name": "python3"
  },
  "language_info": {
   "codemirror_mode": {
    "name": "ipython",
    "version": 3
   },
   "file_extension": ".py",
   "mimetype": "text/x-python",
   "name": "python",
   "nbconvert_exporter": "python",
   "pygments_lexer": "ipython3",
   "version": "3.13.5"
  }
 },
 "nbformat": 4,
 "nbformat_minor": 5
}
