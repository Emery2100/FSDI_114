{
 "cells": [
  {
   "cell_type": "markdown",
   "id": "3e7792fa",
   "metadata": {},
   "source": [
    "# FSDI 114 - Class 1"
   ]
  },
  {
   "cell_type": "code",
   "execution_count": 8,
   "id": "914a1ef5",
   "metadata": {},
   "outputs": [
    {
     "name": "stdout",
     "output_type": "stream",
     "text": [
      "Hello World\n",
      "21\n"
     ]
    }
   ],
   "source": [
    "print(\"Hello World\")\n",
    "\n",
    "x = 10\n",
    "y = 11\n",
    "print(x + y)"
   ]
  },
  {
   "cell_type": "code",
   "execution_count": 3,
   "id": "3eb57cce",
   "metadata": {},
   "outputs": [
    {
     "name": "stdout",
     "output_type": "stream",
     "text": [
      "21\n"
     ]
    }
   ],
   "source": [
    "def sum(x,y):\n",
    "    return x + y\n",
    "\n",
    "print(sum(10, 11))"
   ]
  },
  {
   "cell_type": "markdown",
   "id": "9e21b58d",
   "metadata": {},
   "source": [
    "# AAA Aproach (Assesment, Assembly, Action)\n",
    "\n",
    "- *Assesment:* We want to ask meaningful questions with the purpse of clarifying incorrect assumptions, edge cases we might have missed and specific criteria we do not know up front.\n",
    "- *Assembly:* We want to design a solution by defined sata structures, selecting or defining an algorithm and trying to sold the problem as optimally as possible.\n",
    "- *Action:* code."
   ]
  },
  {
   "cell_type": "markdown",
   "id": "a7b45b55",
   "metadata": {},
   "source": []
  },
  {
   "cell_type": "markdown",
   "id": "2d581a0f",
   "metadata": {},
   "source": [
    "# Problem 1\n",
    "\n",
    "### Find the total of numbers from a collection of numbers that divided by 2 the module is 0\n",
    "\n",
    "```\n",
    "Examples:\n",
    "1. Given [3,4,10,15,999,2] then the output should be: total = 3\n",
    "2. Given [2,4,6,10,3.7] then the output should be: total = 4\n",
    "```\n",
    "\n",
    "### Criteria\n",
    "1. Create a function that receives a collection and return an integer with the total\n",
    "\n",
    "### Hint\n",
    "- '%' is the arithmetic operand to get the module from a divisiom\n",
    "2 % 2 = 0\n",
    "\n",
    "the collection of numbers is: numbers = [3,5,27,20,6,3.5,60]"
   ]
  },
  {
   "cell_type": "code",
   "execution_count": null,
   "id": "052e3b49",
   "metadata": {},
   "outputs": [
    {
     "name": "stdout",
     "output_type": "stream",
     "text": [
      "Total: 86\n"
     ]
    }
   ],
   "source": [
    "numbers = [3, 5, 27, 20, 6, 3.5, 60]\n",
    "total = 0\n",
    "for number in numbers:\n",
    "    if type(number) == int and number % 2 == 0:\n",
    "        total += number\n",
    "print(\"Total:\", total)"
   ]
  },
  {
   "cell_type": "code",
   "execution_count": null,
   "id": "0bc80337",
   "metadata": {},
   "outputs": [],
   "source": []
  }
 ],
 "metadata": {
  "kernelspec": {
   "display_name": "Python 3",
   "language": "python",
   "name": "python3"
  },
  "language_info": {
   "codemirror_mode": {
    "name": "ipython",
    "version": 3
   },
   "file_extension": ".py",
   "mimetype": "text/x-python",
   "name": "python",
   "nbconvert_exporter": "python",
   "pygments_lexer": "ipython3",
   "version": "3.13.5"
  }
 },
 "nbformat": 4,
 "nbformat_minor": 5
}
