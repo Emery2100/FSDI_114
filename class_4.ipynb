{
 "cells": [
  {
   "cell_type": "markdown",
   "id": "7049f180",
   "metadata": {},
   "source": [
    "# Class 4 - Stacks and queues\n",
    "\n",
    "## Stacks\n",
    "A stack is an ordered collection of elements where items aer added and removed from one end, commonly reffered to as the \"top\". The ordering principle is reffered to as LIFO (Last in, First out)\n",
    "\n",
    "## Queues \n",
    "A queue is an ordered collection of elements where items are added and removed from **opposite** ends, commonly refered to as the \"front\" and the \"back\" or \"rear\" of the queue. The ordering principle is refered to as FIFO (First in, First out) or \"first come first served\"."
   ]
  },
  {
   "cell_type": "code",
   "execution_count": 7,
   "id": "4261a70c",
   "metadata": {},
   "outputs": [
    {
     "name": "stdout",
     "output_type": "stream",
     "text": [
      "50\n",
      "50\n",
      "[30, 40]\n"
     ]
    },
    {
     "data": {
      "text/plain": [
       "False"
      ]
     },
     "execution_count": 7,
     "metadata": {},
     "output_type": "execute_result"
    }
   ],
   "source": [
    "class Stack:\n",
    "    def __init__(self):\n",
    "        self.items =[]\n",
    "\n",
    "    def push (self, value):\n",
    "        self.items.append(value)\n",
    "\n",
    "    def pop (self):\n",
    "        return self.items.pop()\n",
    "    \n",
    "    def size(self):\n",
    "        return len(self.items)\n",
    "    \n",
    "    def peek(self):\n",
    "        return self.items[len(self.items)-1]\n",
    "    \n",
    "    def is_empty(self):\n",
    "        return self.items == []\n",
    "    \n",
    "stack = Stack()\n",
    "stack.push(30)\n",
    "stack.push(40)\n",
    "stack.push(50)\n",
    "print(stack.peek())\n",
    "print(stack.pop())\n",
    "print(stack.items)\n",
    "stack.size()\n",
    "stack.is_empty()"
   ]
  },
  {
   "cell_type": "code",
   "execution_count": 10,
   "id": "00a1f6ed",
   "metadata": {},
   "outputs": [
    {
     "name": "stdout",
     "output_type": "stream",
     "text": [
      "['Maryna', 'Ray', 'Britney', 'Yaque', 'Alexander', 'David', 'Tatiana', 'James']\n"
     ]
    },
    {
     "data": {
      "text/plain": [
       "'James'"
      ]
     },
     "execution_count": 10,
     "metadata": {},
     "output_type": "execute_result"
    }
   ],
   "source": [
    "class Queue:\n",
    "    def __init__(self):\n",
    "        self.items = []\n",
    "\n",
    "    def enqueue(self, element):\n",
    "        self.items.insert(0, element)\n",
    "\n",
    "    def dequeue(self):\n",
    "        return self.items.pop()\n",
    "\n",
    "    def peek(self):\n",
    "        return self.items[len(self.items)-1]\n",
    "    \n",
    "    def size(self):\n",
    "        return len(self.items)\n",
    "    \n",
    "    def is_empty(self):\n",
    "        return self.items == []\n",
    "    \n",
    "class_queue = Queue()\n",
    "class_queue.enqueue(\"James\")\n",
    "class_queue.enqueue(\"Tatiana\")\n",
    "class_queue.enqueue(\"David\")\n",
    "class_queue.enqueue(\"Alexander\")  \n",
    "class_queue.enqueue(\"Yaque\")\n",
    "class_queue.enqueue(\"Britney\")\n",
    "class_queue.enqueue(\"Ray\")\n",
    "class_queue.enqueue(\"Maryna\")\n",
    "print(class_queue.items)\n",
    "class_queue.peek()\n",
    "class_queue.dequeue()\n",
    "\n"
   ]
  },
  {
   "cell_type": "code",
   "execution_count": null,
   "id": "4df90482",
   "metadata": {},
   "outputs": [],
   "source": [
    "#custom stack class\n",
    "\n",
    "class Node:\n",
    "    def __init__(self, data):\n",
    "        self.data = data\n",
    "        self.below = None\n",
    "\n",
    "class CustomeStack:\n",
    "    def __init__(self):\n",
    "        self.top = None\n",
    "        \n",
    "    def push(self, value):\n",
    "        if not self.top:\n",
    "            self.top = Node(value)\n",
    "        else:\n",
    "            new_node = Node(value)\n",
    "            new_node.below = self.top\n",
    "            self.top = new_node\n",
    "\n",
    "    def pop(self):\n",
    "        if not self.top:\n",
    "            raise IndexError(\"stack is empty\")\n",
    "        else:\n",
    "            current = self.top.data\n",
    "            self.top = self.top.below\n",
    "            return current\n",
    "        \n",
    "    def is_empty(self):\n",
    "        return self.top == None\n",
    "    \n",
    "custom_stack = CustomeStack()\n",
    "custom_stack.push(10)\n",
    "custom_stack.push(20)\n",
    "custom_stack.push(30)\n",
    "custom_stack.pop()\n",
    "custom_stack.pop()\n",
    "custom_stack.pop()\n",
    "custom_stack.pop()\n",
    "\n"
   ]
  }
 ],
 "metadata": {
  "kernelspec": {
   "display_name": "Python 3",
   "language": "python",
   "name": "python3"
  },
  "language_info": {
   "codemirror_mode": {
    "name": "ipython",
    "version": 3
   },
   "file_extension": ".py",
   "mimetype": "text/x-python",
   "name": "python",
   "nbconvert_exporter": "python",
   "pygments_lexer": "ipython3",
   "version": "3.13.5"
  }
 },
 "nbformat": 4,
 "nbformat_minor": 5
}
